{
 "cells": [
  {
   "cell_type": "code",
   "execution_count": 2,
   "metadata": {},
   "outputs": [],
   "source": [
    "import numpy as np\n",
    "import matplotlib.pyplot as plt\n",
    "import pandas as pd"
   ]
  },
  {
   "cell_type": "code",
   "execution_count": 18,
   "metadata": {},
   "outputs": [],
   "source": [
    "data = pd.read_csv('Uni_linear.txt', header=None, names=['population', 'profit'])"
   ]
  },
  {
   "cell_type": "code",
   "execution_count": null,
   "metadata": {},
   "outputs": [],
   "source": []
  },
  {
   "cell_type": "code",
   "execution_count": 4,
   "metadata": {},
   "outputs": [
    {
     "name": "stdout",
     "output_type": "stream",
     "text": [
      "   profit  population\n",
      "0  6.1101     17.5920\n",
      "1  5.5277      9.1302\n",
      "2  8.5186     13.6620\n",
      "3  7.0032     11.8540\n",
      "4  5.8598      6.8233\n",
      "          profit  population\n",
      "count  97.000000   97.000000\n",
      "mean    8.159800    5.839135\n",
      "std     3.869884    5.510262\n",
      "min     5.026900   -2.680700\n",
      "25%     5.707700    1.986900\n",
      "50%     6.589400    4.562300\n",
      "75%     8.578100    7.046700\n",
      "max    22.203000   24.147000\n"
     ]
    }
   ],
   "source": [
    "print(data.head())\n",
    "print(data.describe())"
   ]
  },
  {
   "cell_type": "code",
   "execution_count": 5,
   "metadata": {},
   "outputs": [
    {
     "data": {
      "text/plain": [
       "Text(0.5, 1.0, 'Profit vs population')"
      ]
     },
     "execution_count": 5,
     "metadata": {},
     "output_type": "execute_result"
    },
    {
     "data": {
      "image/png": "[encoded data removed]",
      "text/plain": [
       "<Figure size 432x288 with 1 Axes>"
      ]
     },
     "metadata": {
      "needs_background": "light"
     },
     "output_type": "display_data"
    }
   ],
   "source": [
    "plt.scatter(data['profit'], data['population'])\n",
    "plt.xlabel('Population of City')\n",
    "plt.ylabel('Profit')\n",
    "plt.xticks(np.arange(5,30,step=5))\n",
    "plt.title(\"Profit vs population\")"
   ]
  },
  {
   "cell_type": "code",
   "execution_count": 6,
   "metadata": {},
   "outputs": [],
   "source": [
    "def computeCost(X, y, theta):\n",
    "    m = len(y)\n",
    "    square_err = (X.dot(theta) - y) ** 2\n",
    "    return 1/(2*m) * np.sum(square_err)"
   ]
  },
  {
   "cell_type": "code",
   "execution_count": 7,
   "metadata": {},
   "outputs": [],
   "source": [
    "data_n=data.values\n",
    "m=len(data_n[:,-1])\n",
    "X=np.append(np.ones((m,1)),data_n[:,0].reshape(m,1),axis=1)\n",
    "y=data_n[:,1].reshape(m,1)\n",
    "theta=np.zeros((2,1))"
   ]
  },
  {
   "cell_type": "code",
   "execution_count": 8,
   "metadata": {},
   "outputs": [],
   "source": [
    "def gradientDescent(X, y, init_theta, learning_rate):\n",
    "    m = len(y)\n",
    "    theta_history = [init_theta]\n",
    "    J_history=[]\n",
    "    for i in range(1499):\n",
    "        new_theta = theta_history[-1] - learning_rate * (1/ m) * np.dot(X.T, np.dot(X, theta_history[-1]) - y)\n",
    "#         if np.linalg.norm(new_theta - theta_history[-1]) < 1e-5:\n",
    "#             break\n",
    "#         else:\n",
    "        J_history.append(computeCost(X,y,new_theta))\n",
    "        theta_history.append(new_theta)\n",
    "    return theta_history[-1], theta_history, J_history\n",
    "# def computeCost(X,y,theta):\n",
    "#     \"\"\"\n",
    "#     Take in a numpy array X,y, theta and generate the cost function     of using theta as parameter in a linear regression model\n",
    "#     \"\"\"\n",
    "#     m=len(y)\n",
    "#     predictions=X.dot(theta)\n",
    "#     square_err=(predictions - y)**2\n",
    "\n",
    "#     return 1/(2*m) * np.sum(square_err)\n",
    "# def gradientDescent(X,y,theta,alpha,num_iters):\n",
    "#     \"\"\"\n",
    "#     Take in numpy array X, y and theta and update theta by taking   num_iters gradient steps\n",
    "#     with learning rate of alpha\n",
    "    \n",
    "#     return theta and the list of the cost of theta during each  iteration\n",
    "#     \"\"\"\n",
    "    \n",
    "#     m=len(y)\n",
    "#     J_history=[]\n",
    "#     theta_history = [theta]\n",
    "#     for i in range(num_iters):\n",
    "#         predictions = X.dot(theta)\n",
    "#         error = np.dot(X.transpose(),(predictions -y))\n",
    "#         descent=alpha * 1/m * error\n",
    "#         theta-=descent\n",
    "#         J_history.append(computeCost(X,y,theta))\n",
    "    \n",
    "#     return theta, J_history\n"
   ]
  },
  {
   "cell_type": "code",
   "execution_count": 9,
   "metadata": {},
   "outputs": [
    {
     "data": {
      "text/plain": [
       "array([[-3.62981201],\n",
       "       [ 1.16631419]])"
      ]
     },
     "execution_count": 9,
     "metadata": {},
     "output_type": "execute_result"
    }
   ],
   "source": [
    "result_theta, theta_history, J_History = gradientDescent(X, y, theta, 0.01)\n",
    "result_theta\n",
    "# theta,J_history = gradientDescent(X,y,theta,0.01,1500)"
   ]
  },
  {
   "cell_type": "code",
   "execution_count": null,
   "metadata": {},
   "outputs": [],
   "source": []
  },
  {
   "cell_type": "code",
   "execution_count": 10,
   "metadata": {},
   "outputs": [
    {
     "data": {
      "image/png": "[encoded data removed]",
      "text/plain": [
       "<Figure size 432x288 with 1 Axes>"
      ]
     },
     "metadata": {
      "needs_background": "light"
     },
     "output_type": "display_data"
    }
   ],
   "source": [
    "plt.plot(J_History)\n",
    "plt.xlabel('Number of iterations')\n",
    "plt.ylabel('$J(\\Theta)$')\n",
    "plt.show()\n",
    "# print(result_theta)"
   ]
  },
  {
   "cell_type": "code",
   "execution_count": 52,
   "metadata": {},
   "outputs": [
    {
     "data": {
      "image/png": "[encoded data removed]",
      "text/plain": [
       "<Figure size 432x288 with 1 Axes>"
      ]
     },
     "metadata": {
      "needs_background": "light"
     },
     "output_type": "display_data"
    }
   ],
   "source": [
    "plt.scatter(data['population'], data['profit'])\n",
    "plt.axis([0, 25, -5, 25])\n",
    "x0 = np.linspace(3, 24, 2)\n",
    "y0 = x0 * result_theta[1] + result_theta[0]\n",
    "plt.plot(x0, y0, 'r')\n",
    "plt.xlabel('Population of city')\n",
    "plt.ylabel('Profit')\n",
    "plt.show()"
   ]
  },
  {
   "cell_type": "code",
   "execution_count": 62,
   "metadata": {},
   "outputs": [],
   "source": [
    "def predict(x, theta):\n",
    "    return sum(np.dot(np.array([1, x]), theta))\n"
   ]
  },
  {
   "cell_type": "code",
   "execution_count": 64,
   "metadata": {},
   "outputs": [
    {
     "data": {
      "text/plain": [
       "0.4522876458065772"
      ]
     },
     "execution_count": 64,
     "metadata": {},
     "output_type": "execute_result"
    }
   ],
   "source": [
    "predict(3.5, result_theta)"
   ]
  },
  {
   "cell_type": "code",
   "execution_count": 98,
   "metadata": {},
   "outputs": [
    {
     "data": {
      "text/plain": [
       "Text(0, 0.5, 'Price')"
      ]
     },
     "execution_count": 98,
     "metadata": {},
     "output_type": "execute_result"
    },
    {
     "data": {
      "image/png": "[encoded data removed]",
      "text/plain": [
       "<Figure size 864x288 with 2 Axes>"
      ]
     },
     "metadata": {
      "needs_background": "light"
     },
     "output_type": "display_data"
    }
   ],
   "source": [
    "data2 = pd.read_csv('Multi_linear.txt', header=None, names=['size', 'room', 'price'])\n",
    "data2.head()\n",
    "data2.describe()\n",
    "fig, (size_price_fig, room_price_fig) = plt.subplots(1, 2, figsize=(12, 4))\n",
    "size_price_fig.set_xlabel('Size (Square Feet)')\n",
    "size_price_fig.set_ylabel('Price')\n",
    "size_price_fig.scatter(data2['size'], data2['price'], c='b')\n",
    "room_price_fig.scatter(data2['room'], data2['price'], c='r')\n",
    "room_price_fig.set_xlabel('Number of bedroom')\n",
    "room_price_fig.set_ylabel('Price')"
   ]
  },
  {
   "cell_type": "code",
   "execution_count": 126,
   "metadata": {},
   "outputs": [
    {
     "name": "stderr",
     "output_type": "stream",
     "text": [
      "<ipython-input-6-be04d726cb96>:3: RuntimeWarning: overflow encountered in square\n",
      "  square_err = (X.dot(theta) - y) ** 2\n",
      "<ipython-input-8-a60beb619c65>:6: RuntimeWarning: invalid value encountered in subtract\n",
      "  new_theta = theta_history[-1] - learning_rate * (1/ m) * np.dot(X.T, np.dot(X, theta_history[-1]) - y)\n"
     ]
    },
    {
     "data": {
      "text/plain": [
       "array([[0],\n",
       "       [0],\n",
       "       [0]])"
      ]
     },
     "execution_count": 126,
     "metadata": {},
     "output_type": "execute_result"
    }
   ],
   "source": [
    "# np.array(data2[['size', 'room']])\n",
    "np.ones((data2[['size']].shape[0], 1))\n",
    "Xbar2 = np.concatenate((np.ones((data2[['size']].shape[0], 1)), data2[['size', 'room']]), axis=1)\n",
    "# gradientDescent(Xbar2, np.array(data2[['price']]),np.array([[0], [0], [0]]), 0.01)\n",
    "# np.dot(Xbar2,np.array([[0], [0], [0]]))\n",
    "np.array([[0], [0], [0]])\n"
   ]
  }
 ],
 "metadata": {
  "kernelspec": {
   "display_name": "Python 3",
   "language": "python",
   "name": "python3"
  },
  "language_info": {
   "codemirror_mode": {
    "name": "ipython",
    "version": 3
   },
   "file_extension": ".py",
   "mimetype": "text/x-python",
   "name": "python",
   "nbconvert_exporter": "python",
   "pygments_lexer": "ipython3",
   "version": "3.8.1"
  }
 },
 "nbformat": 4,
 "nbformat_minor": 4
}

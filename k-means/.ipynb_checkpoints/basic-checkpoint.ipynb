{
 "cells": [
  {
   "cell_type": "code",
   "execution_count": 1,
   "metadata": {},
   "outputs": [],
   "source": [
    "import pandas as pd\n",
    "import numpy as np\n",
    "import matplotlib.pyplot as plt\n",
    "from sklearn.cluster import KMeans\n",
    "from scipy.spatial.distance import cdist"
   ]
  },
  {
   "cell_type": "code",
   "execution_count": 2,
   "metadata": {},
   "outputs": [],
   "source": [
    "covariance = [[1, 0], [0, 1]]\n",
    "N = 500\n",
    "X1 = np.random.multivariate_normal([2, 2], covariance, N)\n",
    "X2 = np.random.multivariate_normal([8, 3], covariance, N)\n",
    "X3 = np.random.multivariate_normal([3, 6], covariance, N)\n",
    "X = np.concatenate((X1, X2, X3))\n",
    "label = np.concatenate((N * [[1, 0, 0]], N * [[0, 1, 0]], N * [[0, 0, 1]]))\n"
   ]
  },
  {
   "cell_type": "code",
   "execution_count": 3,
   "metadata": {},
   "outputs": [],
   "source": [
    "def kmean_display():\n",
    "    plt.figure(figsize=(6, 6))\n",
    "    plt.plot(X1[:, 0], X1[:, 1], 'bo', markersize=4)\n",
    "    plt.plot(X2[:, 0], X2[:, 1], 'r^', markersize=4)\n",
    "    plt.plot(X3[:, 0], X3[:, 1], 'sg', markersize=4)\n",
    "    plt.show()"
   ]
  },
  {
   "cell_type": "code",
   "execution_count": 4,
   "metadata": {},
   "outputs": [
    {
     "data": {
      "image/png": "[encoded data removed]",
      "text/plain": [
       "<Figure size 432x432 with 1 Axes>"
      ]
     },
     "metadata": {
      "needs_background": "light"
     },
     "output_type": "display_data"
    }
   ],
   "source": [
    "kmean_display()"
   ]
  },
  {
   "cell_type": "code",
   "execution_count": 6,
   "metadata": {},
   "outputs": [],
   "source": [
    "def init_centers(k):\n",
    "    return X[np.random.choice(3 * N, k, replace=False), :]"
   ]
  },
  {
   "cell_type": "code",
   "execution_count": 12,
   "metadata": {},
   "outputs": [],
   "source": [
    "centers = init_centers(3)"
   ]
  },
  {
   "cell_type": "code",
   "execution_count": 58,
   "metadata": {},
   "outputs": [],
   "source": [
    "def get_new_label(X, m):\n",
    "    new_labels_intdices = np.argmin(cdist(X, centers), axis=1)\n",
    "    new_labels = np.array(([0] * len(m)) * len(X)).reshape(-1, len(m))\n",
    "    for i in range(len(new_labels)):\n",
    "        new_labels[i][new_labels_intdices[i]] = 1\n",
    "    return new_labels"
   ]
  },
  {
   "cell_type": "code",
   "execution_count": 147,
   "metadata": {},
   "outputs": [],
   "source": [
    "def update_centers(X, labels, k):\n",
    "    new_centers = np.zeros((k, len(X[0])))\n",
    "    for i in range(len(new_centers)):\n",
    "        tmpX = []\n",
    "        for j in range(len(labels)):\n",
    "            if labels[j].tolist().index(1) == i:\n",
    "                tmpX.append(X[j])\n",
    "        new_centers[i] = np.mean(tmpX)\n",
    "    return new_centers"
   ]
  },
  {
   "cell_type": "code",
   "execution_count": 145,
   "metadata": {},
   "outputs": [
    {
     "name": "stdout",
     "output_type": "stream",
     "text": [
      "501\n",
      "303\n",
      "696\n"
     ]
    },
    {
     "data": {
      "text/plain": [
       "array([[5.3667539 , 5.3667539 ],\n",
       "       [5.11211417, 5.11211417],\n",
       "       [2.4775741 , 2.4775741 ]])"
      ]
     },
     "execution_count": 145,
     "metadata": {},
     "output_type": "execute_result"
    }
   ],
   "source": [
    "update_centers(X, l, 3)"
   ]
  },
  {
   "cell_type": "code",
   "execution_count": 137,
   "metadata": {},
   "outputs": [
    {
     "data": {
      "text/plain": [
       "0"
      ]
     },
     "execution_count": 137,
     "metadata": {},
     "output_type": "execute_result"
    }
   ],
   "source": [
    "np.array(np.array([1, 2, 3])).tolist().index(1)"
   ]
  }
 ],
 "metadata": {
  "kernelspec": {
   "display_name": "Python 3",
   "language": "python",
   "name": "python3"
  },
  "language_info": {
   "codemirror_mode": {
    "name": "ipython",
    "version": 3
   },
   "file_extension": ".py",
   "mimetype": "text/x-python",
   "name": "python",
   "nbconvert_exporter": "python",
   "pygments_lexer": "ipython3",
   "version": "3.8.1"
  }
 },
 "nbformat": 4,
 "nbformat_minor": 4
}

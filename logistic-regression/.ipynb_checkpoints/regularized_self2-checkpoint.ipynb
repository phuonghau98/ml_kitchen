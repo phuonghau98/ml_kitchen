{
 "cells": [
  {
   "cell_type": "code",
   "execution_count": 78,
   "metadata": {},
   "outputs": [],
   "source": [
    "import numpy as np\n",
    "import pandas as pd\n",
    "import matplotlib.pyplot as plt"
   ]
  },
  {
   "cell_type": "code",
   "execution_count": 79,
   "metadata": {},
   "outputs": [],
   "source": [
    "df = pd.read_csv('ex2data2.txt', header=None)\n",
    "X = df[[0, 1]].values\n",
    "y = df[[2]].values"
   ]
  },
  {
   "cell_type": "code",
   "execution_count": 80,
   "metadata": {},
   "outputs": [],
   "source": [
    "pos_lab, neg_lab = (y==1).flatten(), (y==0).flatten()"
   ]
  },
  {
   "cell_type": "code",
   "execution_count": 81,
   "metadata": {},
   "outputs": [
    {
     "data": {
      "image/png": "[encoded data removed]",
      "text/plain": [
       "<Figure size 432x288 with 1 Axes>"
      ]
     },
     "metadata": {
      "needs_background": "light"
     },
     "output_type": "display_data"
    }
   ],
   "source": [
    "plt.plot(X[pos_lab, 0], X[pos_lab, 1], 'g^', label='Accepted')\n",
    "plt.plot(X[neg_lab, 0], X[neg_lab, 1], 'ro', label='Rejected')\n",
    "plt.xlabel('Test 1 result')\n",
    "plt.ylabel('Test 2 result')\n",
    "plt.legend()\n",
    "plt.show()\n"
   ]
  },
  {
   "cell_type": "code",
   "execution_count": 82,
   "metadata": {},
   "outputs": [],
   "source": [
    "def map_feature(x1, x2, degree):\n",
    "    m = len(x1)\n",
    "    result = np.ones((x1.shape[0], 1))\n",
    "    for i in range(0, degree+1):\n",
    "        for j in range (0, degree-i+1):\n",
    "            result = np.hstack((result, (x1**i) * (x2**j)))\n",
    "    return result[:, 1:]"
   ]
  },
  {
   "cell_type": "code",
   "execution_count": 83,
   "metadata": {},
   "outputs": [],
   "source": [
    "Xbar = map_feature(X[:, 0].reshape((-1, 1)), X[:, 0].reshape((-1, 1)), 6)"
   ]
  },
  {
   "cell_type": "code",
   "execution_count": 84,
   "metadata": {},
   "outputs": [],
   "source": [
    "def sigmoid(z):\n",
    "    return 1/(1 + np.exp(-z))"
   ]
  },
  {
   "cell_type": "code",
   "execution_count": 85,
   "metadata": {},
   "outputs": [],
   "source": [
    "def compute_cost(theta, X, y, Lambda):\n",
    "    m = len(X)\n",
    "    prediction = sigmoid(X @ theta)\n",
    "    return -1/m * np.sum(y * np.log(prediction) + (1-y)*np.log(1-prediction))"
   ]
  },
  {
   "cell_type": "code",
   "execution_count": 86,
   "metadata": {},
   "outputs": [
    {
     "data": {
      "text/plain": [
       "array([0., 0., 0., 0., 0., 0., 0., 0., 0., 0., 0., 0., 0., 0., 0., 0., 0.,\n",
       "       0., 0., 0., 0., 0., 0., 0., 0., 0., 0.])"
      ]
     },
     "execution_count": 86,
     "metadata": {},
     "output_type": "execute_result"
    }
   ],
   "source": [
    "init_theta = np.zeros((Xbar.shape[1], 1))\n",
    "# compute_cost(init_theta, Xbar, y, 10)\n",
    "init_theta[1:, -1]"
   ]
  },
  {
   "cell_type": "code",
   "execution_count": 87,
   "metadata": {},
   "outputs": [],
   "source": [
    "def descent(theta, X, y, Lambda):\n",
    "    m = len(y)\n",
    "    pred = sigmoid (X @ theta)\n",
    "    theta_0 = 1/m * (X.T @ (pred - y))[0, :].reshape((-1, 1))\n",
    "    theta_j = 1/m * (X.T @ (pred - y))[1:, :].reshape((-1, 1)) + Lambda/m * theta[1:, :].reshape((-1, 1))\n",
    "    return np.vstack((theta_0, theta_j))"
   ]
  },
  {
   "cell_type": "code",
   "execution_count": 88,
   "metadata": {},
   "outputs": [],
   "source": [
    "def grad_descent(theta, X, y, learning_rate, Lambda, iters_count):\n",
    "    J_history = []\n",
    "    for i in range(iters_count):\n",
    "        theta = theta - learning_rate * descent(theta, X, y, Lambda)\n",
    "        J_history.append(compute_cost(theta, X, y, Lambda))\n",
    "    return theta, J_history"
   ]
  },
  {
   "cell_type": "code",
   "execution_count": 93,
   "metadata": {},
   "outputs": [
    {
     "data": {
      "image/png": "[encoded data removed]",
      "text/plain": [
       "<Figure size 432x288 with 1 Axes>"
      ]
     },
     "metadata": {
      "needs_background": "light"
     },
     "output_type": "display_data"
    }
   ],
   "source": [
    "result_theta, J_history = grad_descent(init_theta, Xbar, y, 1, 0.2, 800)\n",
    "plt.plot(J_history)\n",
    "plt.xlabel('Number of iterations')\n",
    "plt.ylabel('$J(\\Theta)$')\n",
    "plt.show()"
   ]
  },
  {
   "cell_type": "code",
   "execution_count": 94,
   "metadata": {},
   "outputs": [],
   "source": [
    "x1 = np.linspace(-1, 1.2, 50)\n",
    "x2 = np.linspace(-1, 1.2, 50)\n",
    "xx1, xx2 = np.meshgrid(x1, x2)"
   ]
  },
  {
   "cell_type": "code",
   "execution_count": 1,
   "metadata": {},
   "outputs": [],
   "source": [
    "# Xbar2 = map_feature(x1.reshape((-1, 1)), x2.reshape((-1, 1)),6)\n",
    "def draw_contour(result_theta):\n",
    "    z = np.zeros((x1.shape[0], x1.shape[0]))\n",
    "    for i in range(len(x1)):\n",
    "        for j in range(len(x2)):\n",
    "            z[i][j] = np.sum(map_feature(x1[i].reshape((-1, 1)), x2[j].reshape((-1, 1)), 6) @ result_theta)\n",
    "    plt.contour(x1, x2, z, levels=[0.5])\n",
    "    plt.plot(X[pos_lab, 0], X[pos_lab, 1], 'g^', label='Accepted')\n",
    "    plt.plot(X[neg_lab, 0], X[neg_lab, 1], 'ro', label='Rejected')\n",
    "    plt.xlabel('Test 1 result')\n",
    "    plt.ylabel('Test 2 result')\n",
    "    plt.legend()\n",
    "    plt.show()"
   ]
  },
  {
   "cell_type": "code",
   "execution_count": 3,
   "metadata": {},
   "outputs": [
    {
     "ename": "NameError",
     "evalue": "name 'result_theta' is not defined",
     "output_type": "error",
     "traceback": [
      "\u001b[0;31m---------------------------------------------------------------------------\u001b[0m",
      "\u001b[0;31mNameError\u001b[0m                                 Traceback (most recent call last)",
      "\u001b[0;32m<ipython-input-3-797cfda01d09>\u001b[0m in \u001b[0;36m<module>\u001b[0;34m\u001b[0m\n\u001b[0;32m----> 1\u001b[0;31m \u001b[0mdraw_contour\u001b[0m\u001b[0;34m(\u001b[0m\u001b[0mresult_theta\u001b[0m\u001b[0;34m)\u001b[0m\u001b[0;34m\u001b[0m\u001b[0;34m\u001b[0m\u001b[0m\n\u001b[0m",
      "\u001b[0;31mNameError\u001b[0m: name 'result_theta' is not defined"
     ]
    }
   ],
   "source": [
    "draw_contour(result_theta)"
   ]
  },
  {
   "cell_type": "code",
   "execution_count": 98,
   "metadata": {},
   "outputs": [],
   "source": [
    "from sklearn.linear_model import LogisticRegression"
   ]
  },
  {
   "cell_type": "code",
   "execution_count": null,
   "metadata": {},
   "outputs": [],
   "source": [
    "clf = LogisticRegression(Xbar, y)"
   ]
  }
 ],
 "metadata": {
  "kernelspec": {
   "display_name": "Python 3",
   "language": "python",
   "name": "python3"
  },
  "language_info": {
   "codemirror_mode": {
    "name": "ipython",
    "version": 3
   },
   "file_extension": ".py",
   "mimetype": "text/x-python",
   "name": "python",
   "nbconvert_exporter": "python",
   "pygments_lexer": "ipython3",
   "version": "3.8.1"
  }
 },
 "nbformat": 4,
 "nbformat_minor": 4
}

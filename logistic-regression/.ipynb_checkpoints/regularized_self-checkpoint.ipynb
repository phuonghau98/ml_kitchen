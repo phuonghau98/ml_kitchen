{
 "cells": [
  {
   "cell_type": "code",
   "execution_count": 2,
   "metadata": {},
   "outputs": [],
   "source": [
    "import pandas as pd\n",
    "import numpy as np\n",
    "import matplotlib.pyplot as plt"
   ]
  },
  {
   "cell_type": "code",
   "execution_count": 3,
   "metadata": {},
   "outputs": [],
   "source": [
    "df = pd.read_csv('ex2data2.txt', header=None)"
   ]
  },
  {
   "cell_type": "code",
   "execution_count": 5,
   "metadata": {},
   "outputs": [],
   "source": [
    "X = df[[0, 1]].values\n",
    "y = df[[2]].values"
   ]
  },
  {
   "cell_type": "code",
   "execution_count": 6,
   "metadata": {},
   "outputs": [],
   "source": [
    "pos_label, neg_label = (y==1).flatten(), (y==0).flatten()"
   ]
  },
  {
   "cell_type": "code",
   "execution_count": 7,
   "metadata": {},
   "outputs": [
    {
     "data": {
      "image/png": "[encoded data removed]",
      "text/plain": [
       "<Figure size 432x288 with 1 Axes>"
      ]
     },
     "metadata": {
      "needs_background": "light"
     },
     "output_type": "display_data"
    }
   ],
   "source": [
    "plt.plot(X[pos_label, 0], X[pos_label, 1], 'g^', label='Accepted')\n",
    "plt.plot(X[neg_label, 0], X[neg_label, 1], 'ro', label='Rejected')\n",
    "plt.xlabel('Test1 result')\n",
    "plt.ylabel('Test2 result')\n",
    "plt.legend()\n",
    "plt.show()"
   ]
  },
  {
   "cell_type": "code",
   "execution_count": 8,
   "metadata": {},
   "outputs": [],
   "source": [
    "# def featureMap(x1, x2, degree):\n",
    "#     result = np.ones((x1.shape[0], 1))\n",
    "#     for i in range(0, degree + 1):\n",
    "#         for j in range(0, degree-i+1):\n",
    "#             result = np.hstack((result, (x1**i) * (x2**j)))\n",
    "#     return result[:, 1:]\n",
    "\n",
    "def mapFeature(x1,x2,degree):\n",
    "    \"\"\"\n",
    "    take in numpy array of x1 and x2, return all polynomial terms up to the given degree\n",
    "    \"\"\"\n",
    "    out = np.ones(len(x1)).reshape(len(x1),1)\n",
    "    for i in range(1,degree+1):\n",
    "        for j in range(i+1):\n",
    "            terms= (x1**(i-j) * x2**j).reshape(len(x1),1)\n",
    "#             print(\"X^{} * X^{}\".format(i, j))\n",
    "            out= np.hstack((out,terms))\n",
    "    return out"
   ]
  },
  {
   "cell_type": "code",
   "execution_count": 9,
   "metadata": {},
   "outputs": [
    {
     "data": {
      "text/plain": [
       "array([[ 1.00000000e+00,  5.12670000e-02,  6.99560000e-01, ...,\n",
       "         6.29470940e-04,  8.58939846e-03,  1.17205992e-01],\n",
       "       [ 1.00000000e+00, -9.27420000e-02,  6.84940000e-01, ...,\n",
       "         1.89305413e-03, -1.39810280e-02,  1.03255971e-01],\n",
       "       [ 1.00000000e+00, -2.13710000e-01,  6.92250000e-01, ...,\n",
       "         1.04882142e-02, -3.39734512e-02,  1.10046893e-01],\n",
       "       ...,\n",
       "       [ 1.00000000e+00, -4.84450000e-01,  9.99270000e-01, ...,\n",
       "         2.34007252e-01, -4.82684337e-01,  9.95627986e-01],\n",
       "       [ 1.00000000e+00, -6.33640000e-03,  9.99270000e-01, ...,\n",
       "         4.00328554e-05, -6.31330588e-03,  9.95627986e-01],\n",
       "       [ 1.00000000e+00,  6.32650000e-01, -3.06120000e-02, ...,\n",
       "         3.51474517e-07, -1.70067777e-08,  8.22905998e-10]])"
      ]
     },
     "execution_count": 9,
     "metadata": {},
     "output_type": "execute_result"
    }
   ],
   "source": [
    "Xbar = mapFeature(X[:, 0], X[:, 1], 6)\n",
    "Xbar"
   ]
  },
  {
   "cell_type": "code",
   "execution_count": 10,
   "metadata": {},
   "outputs": [],
   "source": [
    "def sigmoid(z):\n",
    "    return 1/(1 + np.exp(-z))"
   ]
  },
  {
   "cell_type": "code",
   "execution_count": 11,
   "metadata": {},
   "outputs": [],
   "source": [
    "# def compute_cost(theta, X, y, Lambda):\n",
    "#     m = X.shape[0]\n",
    "#     cost = -1/m * np.sum((y * np.log(sigmoid(X @ theta)) + (1 - y)*np.log(1 - sigmoid(X @theta))))\n",
    "#     regCost = cost + Lambda/(2*m) * np.sum(theta ** 2)\n",
    "#     return regCost\n",
    "def costFunctionReg(theta, X, y, Lambda):\n",
    "    m = len(y)\n",
    "    predictions = sigmoid(X @ theta)\n",
    "    err = (-y * np.log(predictions)) - ((1-y) * np.log(1 - predictions))\n",
    "    cost = 1/m * sum(err)\n",
    "    \n",
    "    # Compute Gradient\n",
    "    new_theta_descent = 1/m * (X.T @ (predictions - y))\n",
    "    descent_0 = new_theta_descent[0].reshape((1, 1))\n",
    "    descent_j = new_theta_descent[1:, :].reshape((-1, 1)) + (Lambda/m) * theta[1:].reshape((-1, 1))\n",
    "    grad = np.vstack((descent_0, descent_j))\n",
    "    return cost[0], grad"
   ]
  },
  {
   "cell_type": "code",
   "execution_count": 12,
   "metadata": {},
   "outputs": [
    {
     "data": {
      "text/plain": [
       "0.6931471805599461"
      ]
     },
     "execution_count": 12,
     "metadata": {},
     "output_type": "execute_result"
    }
   ],
   "source": [
    "# init_theta = np.ones((Xbar.shape[1], 1))\n",
    "# compute_cost(init_theta, Xbar, y, 10)\n",
    "initial_theta = np.zeros((len(Xbar[0]), 1))\n",
    "Lambda = 1\n",
    "cost, grad=costFunctionReg(initial_theta, Xbar, y, Lambda)\n",
    "cost"
   ]
  },
  {
   "cell_type": "code",
   "execution_count": 14,
   "metadata": {},
   "outputs": [],
   "source": [
    "# def grad_descent(theta, X, y, learning_rate, iters, Lambda):\n",
    "#     m = len(X)\n",
    "#     theta_history = [init_theta]\n",
    "#     J_history = [compute_cost(theta, X, y, Lambda)]\n",
    "#     for i in range(iters):\n",
    "#         descent = 1/m * X.T @ (sigmoid(X @ theta) - y) + Lambda/m * theta_history[-1]\n",
    "#         theta = theta_history[-1] - learning_rate * descent\n",
    "#         theta_history.append(theta)\n",
    "#         J_history.append(compute_cost(theta, X, y, Lambda))\n",
    "#     return theta_history[-1], J_history\n",
    "def grad_descent(theta, X, y, learning_rate, iters, Lambda):\n",
    "    m = len(y)\n",
    "    J_history = []\n",
    "    for i in range(iters):\n",
    "        cost, descent = costFunctionReg(theta, X, y, Lambda)\n",
    "        theta = theta - learning_rate * descent\n",
    "        J_history.append(cost)\n",
    "    return theta, J_history"
   ]
  },
  {
   "cell_type": "code",
   "execution_count": 15,
   "metadata": {},
   "outputs": [
    {
     "data": {
      "image/png": "[encoded data removed]",
      "text/plain": [
       "<Figure size 432x288 with 1 Axes>"
      ]
     },
     "metadata": {
      "needs_background": "light"
     },
     "output_type": "display_data"
    },
    {
     "data": {
      "text/plain": [
       "array([[ 2.25319932],\n",
       "       [ 1.44552306],\n",
       "       [ 2.33283911],\n",
       "       [-3.57008233],\n",
       "       [-2.35002884],\n",
       "       [-3.07090829],\n",
       "       [ 0.50119267],\n",
       "       [-0.88407626],\n",
       "       [-0.69606495],\n",
       "       [-0.22204243],\n",
       "       [-2.69560917],\n",
       "       [ 0.04161168],\n",
       "       [-1.31573798],\n",
       "       [-0.80286232],\n",
       "       [-2.23101395],\n",
       "       [-0.39638083],\n",
       "       [-0.43758167],\n",
       "       [ 0.09476652],\n",
       "       [-0.69300577],\n",
       "       [-0.78996079],\n",
       "       [-0.45416815],\n",
       "       [-2.01051679],\n",
       "       [ 0.16446857],\n",
       "       [-0.59855483],\n",
       "       [ 0.11471778],\n",
       "       [-0.73960173],\n",
       "       [-0.52044034],\n",
       "       [-1.38532427]])"
      ]
     },
     "execution_count": 15,
     "metadata": {},
     "output_type": "execute_result"
    }
   ],
   "source": [
    "# result_theta, J_history = grad_descent(init_theta, Xbar, y, 1, 100, 10)\n",
    "result_theta, J_history = grad_descent(initial_theta, Xbar, y, 1, 800, 0.2)\n",
    "plt.plot(J_history)\n",
    "plt.xlabel('Number of iterations')\n",
    "plt.ylabel('$J(\\Theta)$')\n",
    "plt.title('Cost function using gradient descent')\n",
    "plt.show()\n",
    "result_theta"
   ]
  },
  {
   "cell_type": "code",
   "execution_count": 46,
   "metadata": {},
   "outputs": [
    {
     "name": "stdout",
     "output_type": "stream",
     "text": [
      "(50, 50)\n"
     ]
    },
    {
     "data": {
      "image/png": "[encoded data removed]",
      "text/plain": [
       "<Figure size 432x288 with 1 Axes>"
      ]
     },
     "metadata": {
      "needs_background": "light"
     },
     "output_type": "display_data"
    }
   ],
   "source": [
    "\n",
    "\n",
    "def mapFeaturePlot(x1,x2,degree):\n",
    "    \"\"\"\n",
    "    take in numpy array of x1 and x2, return all polynomial terms up to the given degree\n",
    "    \"\"\"\n",
    "    out = np.ones(1)\n",
    "    for i in range(1,degree+1):\n",
    "        for j in range(i+1):\n",
    "            terms= (x1**(i-j) * x2**j)\n",
    "            out= np.hstack((out,terms))\n",
    "    return out\n",
    "plt.plot(X[pos_label, 0], X[pos_label, 1], 'g^', label='Accepted')\n",
    "plt.plot(X[neg_label, 0], X[neg_label, 1], 'ro', label='Rejected')\n",
    "plt.xlabel('Test1 result')\n",
    "plt.ylabel('Test2 result')\n",
    "# Plotting decision boundary\n",
    "u_vals = np.linspace(-1,1.5,50)\n",
    "v_vals= np.linspace(-1,1.5,50)\n",
    "u, v = np.meshgrid(u, v)"
   ]
  },
  {
   "cell_type": "markdown",
   "metadata": {},
   "source": [
    "### Using Lasso Regression"
   ]
  },
  {
   "cell_type": "code",
   "execution_count": null,
   "metadata": {},
   "outputs": [],
   "source": [
    "from sklearn.linear_model import LogisticRegression"
   ]
  },
  {
   "cell_type": "code",
   "execution_count": null,
   "metadata": {},
   "outputs": [],
   "source": [
    "clf = LogisticRegression(penalty='l1', solver='saga')\n",
    "clf.fit(Xbar, y)\n",
    "result_theta_lasso = clf.coef_.reshape(-1, 1)\n"
   ]
  },
  {
   "cell_type": "code",
   "execution_count": null,
   "metadata": {},
   "outputs": [],
   "source": [
    "u_vals = np.linspace(-1,1.5,50)\n",
    "v_vals= np.linspace(-1,1.5,50)\n",
    "z=np.zeros((len(u_vals),len(v_vals)))\n",
    "for i in range(len(u_vals)):\n",
    "    for j in range(len(v_vals)):\n",
    "        z[i,j] =mapFeaturePlot(u_vals[i],v_vals[j],6) @ result_theta_lasso\n",
    "plt.contour(u_vals,v_vals,z.T,0)\n",
    "plt.legend()\n",
    "plt.show()"
   ]
  }
 ],
 "metadata": {
  "kernelspec": {
   "display_name": "Python 3",
   "language": "python",
   "name": "python3"
  },
  "language_info": {
   "codemirror_mode": {
    "name": "ipython",
    "version": 3
   },
   "file_extension": ".py",
   "mimetype": "text/x-python",
   "name": "python",
   "nbconvert_exporter": "python",
   "pygments_lexer": "ipython3",
   "version": "3.8.1"
  }
 },
 "nbformat": 4,
 "nbformat_minor": 4
}

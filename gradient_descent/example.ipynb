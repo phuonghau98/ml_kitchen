{
 "cells": [
  {
   "cell_type": "code",
   "execution_count": 1,
   "metadata": {},
   "outputs": [],
   "source": [
    "import numpy as np\n",
    "import matplotlib.pyplot as plt\n",
    "import math"
   ]
  },
  {
   "cell_type": "code",
   "execution_count": 11,
   "metadata": {},
   "outputs": [],
   "source": [
    "def f(x):\n",
    "    return x**2 + 5 * math.sin(x)\n",
    "def f_deri(x):\n",
    "    return 2*x + 5*math.cos(x)"
   ]
  },
  {
   "cell_type": "code",
   "execution_count": 19,
   "metadata": {},
   "outputs": [
    {
     "data": {
      "image/png": "[encoded data removed]",
      "text/plain": [
       "<Figure size 432x288 with 1 Axes>"
      ]
     },
     "metadata": {
      "needs_background": "light"
     },
     "output_type": "display_data"
    }
   ],
   "source": [
    "x = np.arange(-5, 5, 0.1)\n",
    "y = np.array(list(map(f, x)))\n",
    "plt.plot(x, y)\n",
    "plt.show()"
   ]
  },
  {
   "cell_type": "code",
   "execution_count": 3,
   "metadata": {},
   "outputs": [],
   "source": [
    "def GD(eta, x0):\n",
    "    x = [x0]\n",
    "    iter = 0\n",
    "    while True:\n",
    "        xtplus1 = x[-1] - eta * f_deri(x[-1])\n",
    "        if abs(xtplus1 - x[-1]) < 10e-3:\n",
    "            break\n",
    "        x.append(xtplus1)\n",
    "    return x"
   ]
  },
  {
   "cell_type": "code",
   "execution_count": 9,
   "metadata": {},
   "outputs": [
    {
     "name": "stdout",
     "output_type": "stream",
     "text": [
      "Solution x: -1.1207324901805855, obtained after 8 iterations\n",
      "Solution x: -1.0995355411928174, obtained after 26 iterations\n"
     ]
    }
   ],
   "source": [
    "result1 = GD(0.1, -5)\n",
    "print('Solution x: {}, obtained after {} iterations'.format(result1[-1], len(result1)))\n",
    "result2 = GD(0.1, 5)\n",
    "print('Solution x: {}, obtained after {} iterations'.format(result2[-1], len(result2)))"
   ]
  }
 ],
 "metadata": {
  "kernelspec": {
   "display_name": "Python 3",
   "language": "python",
   "name": "python3"
  },
  "language_info": {
   "codemirror_mode": {
    "name": "ipython",
    "version": 3
   },
   "file_extension": ".py",
   "mimetype": "text/x-python",
   "name": "python",
   "nbconvert_exporter": "python",
   "pygments_lexer": "ipython3",
   "version": "3.8.1"
  }
 },
 "nbformat": 4,
 "nbformat_minor": 4
}

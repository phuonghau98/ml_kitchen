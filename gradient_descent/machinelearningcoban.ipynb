{
 "cells": [
  {
   "cell_type": "code",
   "execution_count": 2,
   "metadata": {},
   "outputs": [],
   "source": [
    "import numpy as np\n",
    "import matplotlib.pyplot as plt"
   ]
  },
  {
   "cell_type": "code",
   "execution_count": 53,
   "metadata": {},
   "outputs": [],
   "source": [
    "np.random.seed(3)\n",
    "X = np.random.rand(1000, 1)\n",
    "y = 4 + 3 * X + 0.2 * np.random.rand(1000, 1)"
   ]
  },
  {
   "cell_type": "code",
   "execution_count": 54,
   "metadata": {},
   "outputs": [],
   "source": [
    "ones = np.ones((X.shape[0], 1))\n",
    "Xbar = np.concatenate((ones, X), axis=1)\n",
    "A = np.dot(Xbar.T, Xbar)\n",
    "b = np.dot(Xbar.T, y)\n"
   ]
  },
  {
   "cell_type": "code",
   "execution_count": 55,
   "metadata": {},
   "outputs": [
    {
     "name": "stdout",
     "output_type": "stream",
     "text": [
      "[[4.09229356]\n",
      " [3.01623505]]\n"
     ]
    }
   ],
   "source": [
    "w = np.dot(np.linalg.pinv(A), b)\n",
    "print(w)"
   ]
  },
  {
   "cell_type": "code",
   "execution_count": 57,
   "metadata": {},
   "outputs": [],
   "source": [
    "x0 = np.linspace(0, 1, 2)\n",
    "y0 = w[0][0] + w[1][0]*x0"
   ]
  },
  {
   "cell_type": "code",
   "execution_count": 61,
   "metadata": {},
   "outputs": [
    {
     "data": {
      "text/plain": [
       "(0.0, 1.0, 0.0, 10.0)"
      ]
     },
     "execution_count": 61,
     "metadata": {},
     "output_type": "execute_result"
    },
    {
     "data": {
      "image/png": "[encoded data removed]",
      "text/plain": [
       "<Figure size 432x432 with 1 Axes>"
      ]
     },
     "metadata": {
      "needs_background": "light"
     },
     "output_type": "display_data"
    }
   ],
   "source": [
    "plt.figure(figsize=(6, 6))\n",
    "plt.scatter(X, y, s=2, c='b')\n",
    "plt.plot(x0, y0, 'y')\n",
    "plt.axis([0, 1, 0, 10])"
   ]
  },
  {
   "cell_type": "code",
   "execution_count": 72,
   "metadata": {},
   "outputs": [],
   "source": [
    "### Find w with gradient descent\n",
    "def loss_deri(w):\n",
    "    N = Xbar.shape[0]\n",
    "    return (1/N) * Xbar.T.dot(np.dot(Xbar, w) - y)"
   ]
  },
  {
   "cell_type": "code",
   "execution_count": 64,
   "metadata": {},
   "outputs": [],
   "source": [
    "def loss(w):\n",
    "    N = Xbar.shape[0]\n",
    "    return (1/2*N) * np.linalg.norm(y - Xbar.dot(w), 2) ** 2"
   ]
  },
  {
   "cell_type": "code",
   "execution_count": 80,
   "metadata": {},
   "outputs": [],
   "source": [
    "def myGD(w_init, grad, eta):\n",
    "    w = [w_init]\n",
    "    for it in range(100):\n",
    "        w_new = w[-1] - eta*grad(w[-1])\n",
    "        print(np.linalg.norm(grad(w_new)))\n",
    "        if np.linalg.norm(grad(w_new))/len(w_new) < 1e-3:\n",
    "            break\n",
    "        w.append(w_new)\n",
    "    return w"
   ]
  },
  {
   "cell_type": "code",
   "execution_count": 81,
   "metadata": {},
   "outputs": [
    {
     "name": "stdout",
     "output_type": "stream",
     "text": [
      "0.9702852458332121\n",
      "0.26738406943075865\n",
      "0.08255759412707261\n",
      "0.042855764024001104\n",
      "0.03611387675044444\n",
      "0.033487048934460424\n",
      "0.03133776647318281\n",
      "0.029349460250457534\n",
      "0.027489131833175084\n",
      "0.025746865517311143\n",
      "0.02411503578841761\n",
      "0.022586631912633506\n",
      "0.021155097896473248\n",
      "0.019814294086353084\n",
      "0.018558470023218678\n",
      "0.01738223971555068\n",
      "0.016280558534777223\n",
      "0.015248701579416307\n",
      "0.014282243410838603\n",
      "0.01337703907339828\n",
      "0.012529206317505143\n",
      "0.011735108949392564\n",
      "0.010991341236173036\n",
      "0.01029471329929587\n",
      "0.009642237433763792\n",
      "0.0090311152944332\n",
      "0.008458725894442975\n",
      "0.007922614364299372\n",
      "0.007420481423406618\n",
      "0.00695017351888896\n",
      "0.006509673589411025\n",
      "0.006097092414384722\n",
      "0.00571066051146065\n",
      "0.0053487205475541205\n",
      "0.005009720230858247\n",
      "0.004692205653358904\n",
      "0.004394815055299271\n",
      "0.00411627298485075\n",
      "0.0038553848279420664\n",
      "0.0036110316847862613\n",
      "0.0033821655711319906\n",
      "0.0031678049236579004\n",
      "0.0029670303902338533\n",
      "0.0027789808869941187\n",
      "0.002602849905312221\n",
      "0.0024378820528383853\n",
      "0.002283369813765185\n",
      "0.0021386505144265545\n",
      "0.002003103481216155\n",
      "0.0018761473786361542\n",
      "Solution found by GD: w = [[4.10729135]\n",
      " [2.98841545]], after 50 iterations\n"
     ]
    }
   ],
   "source": [
    "w_init = np.array([[2], [1]])\n",
    "w = myGD(w_init, loss_deri, 1)\n",
    "print('Solution found by GD: w = {}, after {} iterations'.format(w[-1], len(w)))"
   ]
  }
 ],
 "metadata": {
  "kernelspec": {
   "display_name": "Python 3",
   "language": "python",
   "name": "python3"
  },
  "language_info": {
   "codemirror_mode": {
    "name": "ipython",
    "version": 3
   },
   "file_extension": ".py",
   "mimetype": "text/x-python",
   "name": "python",
   "nbconvert_exporter": "python",
   "pygments_lexer": "ipython3",
   "version": "3.8.1"
  }
 },
 "nbformat": 4,
 "nbformat_minor": 4
}

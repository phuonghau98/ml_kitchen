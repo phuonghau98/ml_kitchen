{
 "cells": [
  {
   "cell_type": "code",
   "execution_count": 2,
   "metadata": {},
   "outputs": [],
   "source": [
    "import numpy as np\n",
    "import matplotlib.pyplot as plt\n",
    "import math"
   ]
  },
  {
   "cell_type": "code",
   "execution_count": null,
   "metadata": {},
   "outputs": [],
   "source": [
    "def f_deri(x):\n",
    "    return 2*x + 5*math.cos(x)"
   ]
  },
  {
   "cell_type": "code",
   "execution_count": null,
   "metadata": {},
   "outputs": [],
   "source": [
    "def GD(eta, x0):\n",
    "    x = [x0]\n",
    "    iter = 0\n",
    "    while True:\n",
    "        xtplus1 = x[-1] - eta * f_deri(x[-1])\n",
    "        if abs(xtplus1 - x[-1]) < 10e-3:\n",
    "            break\n",
    "        x.append(xtplus1)\n",
    "    return x"
   ]
  },
  {
   "cell_type": "code",
   "execution_count": null,
   "metadata": {},
   "outputs": [],
   "source": [
    "# result1 = GD(0.1, 3)\n",
    "print(\"Hello world\")\n",
    "# print('Solution x: {}, obtained after {} iterations'.format(result1[-1], len(result1)))"
   ]
  }
 ],
 "metadata": {
  "kernelspec": {
   "display_name": "Python 3",
   "language": "python",
   "name": "python3"
  },
  "language_info": {
   "codemirror_mode": {
    "name": "ipython",
    "version": 3
   },
   "file_extension": ".py",
   "mimetype": "text/x-python",
   "name": "python",
   "nbconvert_exporter": "python",
   "pygments_lexer": "ipython3",
   "version": "3.8.1"
  }
 },
 "nbformat": 4,
 "nbformat_minor": 4
}
